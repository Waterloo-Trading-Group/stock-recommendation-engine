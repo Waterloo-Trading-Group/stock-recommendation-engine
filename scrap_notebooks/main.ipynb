{
 "cells": [
  {
   "cell_type": "code",
   "execution_count": 1,
   "metadata": {},
   "outputs": [],
   "source": [
    "import yfinance as yf"
   ]
  },
  {
   "cell_type": "code",
   "execution_count": 9,
   "metadata": {},
   "outputs": [
    {
     "ename": "AttributeError",
     "evalue": "module 'yfinance' has no attribute 'history'",
     "output_type": "error",
     "traceback": [
      "\u001b[0;31m---------------------------------------------------------------------------\u001b[0m",
      "\u001b[0;31mAttributeError\u001b[0m                            Traceback (most recent call last)",
      "\u001b[1;32m/Users/mohammedal-rasheed/Desktop/stock-recommendations/scrap_notebooks/main.ipynb Cell 2\u001b[0m in \u001b[0;36m<cell line: 2>\u001b[0;34m()\u001b[0m\n\u001b[1;32m      <a href='vscode-notebook-cell:/Users/mohammedal-rasheed/Desktop/stock-recommendations/scrap_notebooks/main.ipynb#W1sZmlsZQ%3D%3D?line=0'>1</a>\u001b[0m msft \u001b[39m=\u001b[39m yf\u001b[39m.\u001b[39mTicker(\u001b[39m\"\u001b[39m\u001b[39mMSFT\u001b[39m\u001b[39m\"\u001b[39m)\n\u001b[0;32m----> <a href='vscode-notebook-cell:/Users/mohammedal-rasheed/Desktop/stock-recommendations/scrap_notebooks/main.ipynb#W1sZmlsZQ%3D%3D?line=1'>2</a>\u001b[0m yf\u001b[39m.\u001b[39;49mhistory(msft)\n\u001b[1;32m      <a href='vscode-notebook-cell:/Users/mohammedal-rasheed/Desktop/stock-recommendations/scrap_notebooks/main.ipynb#W1sZmlsZQ%3D%3D?line=2'>3</a>\u001b[0m msft\u001b[39m.\u001b[39mhistory_metadata\n",
      "\u001b[0;31mAttributeError\u001b[0m: module 'yfinance' has no attribute 'history'"
     ]
    }
   ],
   "source": [
    "msft = yf.Ticker(\"MSFT\")\n",
    "msft = "
   ]
  }
 ],
 "metadata": {
  "kernelspec": {
   "display_name": "Python 3.9.13 64-bit",
   "language": "python",
   "name": "python3"
  },
  "language_info": {
   "codemirror_mode": {
    "name": "ipython",
    "version": 3
   },
   "file_extension": ".py",
   "mimetype": "text/x-python",
   "name": "python",
   "nbconvert_exporter": "python",
   "pygments_lexer": "ipython3",
   "version": "3.9.13"
  },
  "orig_nbformat": 4,
  "vscode": {
   "interpreter": {
    "hash": "b0fa6594d8f4cbf19f97940f81e996739fb7646882a419484c72d19e05852a7e"
   }
  }
 },
 "nbformat": 4,
 "nbformat_minor": 2
}
